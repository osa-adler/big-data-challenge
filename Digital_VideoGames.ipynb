{
  "cells": [
    {
      "cell_type": "markdown",
      "metadata": {
        "id": "view-in-github",
        "colab_type": "text"
      },
      "source": [
        "<a href=\"https://colab.research.google.com/github/osa-adler/big-data-challenge/blob/main/Digital_VideoGames.ipynb\" target=\"_parent\"><img src=\"https://colab.research.google.com/assets/colab-badge.svg\" alt=\"Open In Colab\"/></a>"
      ]
    },
    {
      "cell_type": "code",
      "execution_count": 1,
      "id": "eb713cf6",
      "metadata": {
        "colab": {
          "base_uri": "https://localhost:8080/"
        },
        "id": "eb713cf6",
        "outputId": "a44192b7-1ff2-43d8-eb66-7af2b52af85f"
      },
      "outputs": [
        {
          "output_type": "stream",
          "name": "stdout",
          "text": [
            "\r0% [Working]\r            \rGet:1 https://cloud.r-project.org/bin/linux/ubuntu bionic-cran40/ InRelease [3,626 B]\n",
            "\r0% [Waiting for headers] [Waiting for headers] [1 InRelease 0 B/3,626 B 0%] [Wa\r0% [Waiting for headers] [Waiting for headers] [Waiting for headers] [Waiting f\r0% [1 InRelease gpgv 3,626 B] [Waiting for headers] [Waiting for headers] [Wait\r                                                                               \rIgn:2 https://developer.download.nvidia.com/compute/machine-learning/repos/ubuntu1804/x86_64  InRelease\n",
            "\r0% [1 InRelease gpgv 3,626 B] [Waiting for headers] [Waiting for headers] [Wait\r                                                                               \rHit:3 http://ppa.launchpad.net/c2d4u.team/c2d4u4.0+/ubuntu bionic InRelease\n",
            "\r0% [1 InRelease gpgv 3,626 B] [Waiting for headers] [Waiting for headers] [Wait\r                                                                               \rGet:4 http://security.ubuntu.com/ubuntu bionic-security InRelease [88.7 kB]\n",
            "\r0% [1 InRelease gpgv 3,626 B] [Waiting for headers] [4 InRelease 14.2 kB/88.7 k\r                                                                               \rGet:5 https://developer.download.nvidia.com/compute/cuda/repos/ubuntu1804/x86_64  InRelease [1,581 B]\n",
            "\r0% [1 InRelease gpgv 3,626 B] [Waiting for headers] [4 InRelease 14.2 kB/88.7 k\r0% [1 InRelease gpgv 3,626 B] [Waiting for headers] [4 InRelease 14.2 kB/88.7 k\r                                                                               \rHit:6 http://archive.ubuntu.com/ubuntu bionic InRelease\n",
            "Hit:7 https://developer.download.nvidia.com/compute/machine-learning/repos/ubuntu1804/x86_64  Release\n",
            "Get:8 http://archive.ubuntu.com/ubuntu bionic-updates InRelease [88.7 kB]\n",
            "Hit:9 http://ppa.launchpad.net/cran/libgit2/ubuntu bionic InRelease\n",
            "Hit:10 http://ppa.launchpad.net/deadsnakes/ppa/ubuntu bionic InRelease\n",
            "Get:11 http://archive.ubuntu.com/ubuntu bionic-backports InRelease [83.3 kB]\n",
            "Get:12 http://ppa.launchpad.net/graphics-drivers/ppa/ubuntu bionic InRelease [21.3 kB]\n",
            "Get:13 https://developer.download.nvidia.com/compute/cuda/repos/ubuntu1804/x86_64  Packages [913 kB]\n",
            "Get:15 http://security.ubuntu.com/ubuntu bionic-security/universe amd64 Packages [1,546 kB]\n",
            "Get:16 http://archive.ubuntu.com/ubuntu bionic-updates/main amd64 Packages [3,422 kB]\n",
            "Get:17 http://security.ubuntu.com/ubuntu bionic-security/main amd64 Packages [2,990 kB]\n",
            "Get:18 http://archive.ubuntu.com/ubuntu bionic-updates/universe amd64 Packages [2,323 kB]\n",
            "Get:19 http://ppa.launchpad.net/graphics-drivers/ppa/ubuntu bionic/main amd64 Packages [48.3 kB]\n",
            "Fetched 11.5 MB in 4s (2,699 kB/s)\n",
            "Reading package lists... Done\n"
          ]
        }
      ],
      "source": [
        "import os\n",
        "# Find the latest version of spark 3.2  from http://www.apache.org/dist/spark/ and enter as the spark version\n",
        "# For example:\n",
        "# spark_version = 'spark-3.2.2'\n",
        "spark_version = 'spark-3.3.0'\n",
        "os.environ['SPARK_VERSION']=spark_version\n",
        "\n",
        "# Install Spark and Java\n",
        "!apt-get update\n",
        "!apt-get install --only-upgrade openjdk-11-jdk-headless -qq > /dev/null\n",
        "!wget -q -c http://www.apache.org/dist/spark/$SPARK_VERSION/$SPARK_VERSION-bin-hadoop3.tgz\n",
        "!tar xf $SPARK_VERSION-bin-hadoop3.tgz\n",
        "!pip install -q findspark\n",
        "\n",
        "# Set Environment Variables\n",
        "import os\n",
        "os.environ[\"JAVA_HOME\"] = \"/usr/lib/jvm/java-11-openjdk-amd64\"\n",
        "os.environ[\"SPARK_HOME\"] = f\"/content/{spark_version}-bin-hadoop3\"\n",
        "\n",
        "# Start a SparkSession\n",
        "import findspark\n",
        "findspark.init()"
      ]
    },
    {
      "cell_type": "code",
      "execution_count": 2,
      "id": "7dfdf6dc",
      "metadata": {
        "id": "7dfdf6dc"
      },
      "outputs": [],
      "source": [
        "from pyspark.sql import SparkSession\n",
        "spark = SparkSession.builder.appName(\"bigdata-homework1\").config(\"spark.driver.extraClassPath\",\"/content/postgresql-42.2.9.jar\").getOrCreate()\n"
      ]
    },
    {
      "cell_type": "code",
      "source": [
        "# Read in data from S3 Buckets\n",
        "from pyspark import SparkFiles\n",
        "url=\"https://s3.amazonaws.com/amazon-reviews-pds/tsv/amazon_reviews_us_Digital_Video_Games_v1_00.tsv.gz\"\n",
        "spark.sparkContext.addFile(url)\n",
        "digital_video_games_df = spark.read.csv(SparkFiles.get(\"amazon_reviews_us_Digital_Video_Games_v1_00.tsv.gz\"), sep=\"\\t\", header=True, inferSchema=True)\n",
        "\n",
        "# Show DataFrame\n",
        "digital_video_games_df.show()"
      ],
      "metadata": {
        "colab": {
          "base_uri": "https://localhost:8080/"
        },
        "id": "dPcOREkDOcpO",
        "outputId": "46f293c7-fdec-4363-b08f-64262ce4a517"
      },
      "id": "dPcOREkDOcpO",
      "execution_count": 3,
      "outputs": [
        {
          "output_type": "stream",
          "name": "stdout",
          "text": [
            "+-----------+-----------+--------------+----------+--------------+--------------------+-------------------+-----------+-------------+-----------+----+-----------------+--------------------+--------------------+-------------------+\n",
            "|marketplace|customer_id|     review_id|product_id|product_parent|       product_title|   product_category|star_rating|helpful_votes|total_votes|vine|verified_purchase|     review_headline|         review_body|        review_date|\n",
            "+-----------+-----------+--------------+----------+--------------+--------------------+-------------------+-----------+-------------+-----------+----+-----------------+--------------------+--------------------+-------------------+\n",
            "|         US|   21269168| RSH1OZ87OYK92|B013PURRZW|     603406193|Madden NFL 16 - X...|Digital_Video_Games|          2|            2|          3|   N|                N|A slight improvem...|I keep buying mad...|2015-08-31 00:00:00|\n",
            "|         US|     133437|R1WFOQ3N9BO65I|B00F4CEHNK|     341969535| Xbox Live Gift Card|Digital_Video_Games|          5|            0|          0|   N|                Y|          Five Stars|             Awesome|2015-08-31 00:00:00|\n",
            "|         US|   45765011| R3YOOS71KM5M9|B00DNHLFQA|     951665344|Command & Conquer...|Digital_Video_Games|          5|            0|          0|   N|                Y|Hail to the great...|If you are preppi...|2015-08-31 00:00:00|\n",
            "|         US|     113118|R3R14UATT3OUFU|B004RMK5QG|     395682204|Playstation Plus ...|Digital_Video_Games|          5|            0|          0|   N|                Y|          Five Stars|             Perfect|2015-08-31 00:00:00|\n",
            "|         US|   22151364| RV2W9SGDNQA2C|B00G9BNLQE|     640460561|Saints Row IV - E...|Digital_Video_Games|          5|            0|          0|   N|                Y|          Five Stars|            Awesome!|2015-08-31 00:00:00|\n",
            "|         US|   22151364|R3CFKLIZ0I2KOB|B00IMIL498|     621922192|Double Dragon: Ne...|Digital_Video_Games|          5|            0|          0|   N|                Y|          Five Stars|            Awesome!|2015-08-31 00:00:00|\n",
            "|         US|   38426028|R1LRYU1V0T3O38|B00S00IJH8|     215163395|              Sims 4|Digital_Video_Games|          4|            0|          0|   N|                Y|i like the new sk...|i like the new sk...|2015-08-31 00:00:00|\n",
            "|         US|    6057518| R44QKV6FE5CJ2|B004RMK4BC|     384246568|Playstation Netwo...|Digital_Video_Games|          5|            0|          0|   N|                Y|          Five Stars|               Super|2015-08-31 00:00:00|\n",
            "|         US|   20715661|R2TX1KLPXXXNYS|B00K59HKIQ|     384246568|Playstation Netwo...|Digital_Video_Games|          5|            0|          0|   N|                Y|         Easy & Fast|Excellent, fast a...|2015-08-31 00:00:00|\n",
            "|         US|   26540306|R1JEEW4C6R89BA|B00K59HKIQ|     384246568|Playstation Netwo...|Digital_Video_Games|          5|            0|          0|   N|                Y|          Five Stars|                  Ok|2015-08-31 00:00:00|\n",
            "|         US|    8926809|R3B3UHK1FO0ERS|B004774IPU|     151985175|Sid Meier's Civil...|Digital_Video_Games|          1|            0|          0|   N|                N|I am still playin...|As has been writt...|2015-08-31 00:00:00|\n",
            "|         US|   31525534|R2GVSDHW513SS1|B002LIT9EC|     695277014|Build-a-lot 4: Po...|Digital_Video_Games|          5|            0|          0|   N|                Y|Probably the best...|Probably the best...|2015-08-31 00:00:00|\n",
            "|         US|   22151364|R1R1NT516PYT73|B008ALUBYQ|     112160022|       Borderlands 2|Digital_Video_Games|          5|            0|          0|   N|                Y|          Five Stars|            Awesome!|2015-08-31 00:00:00|\n",
            "|         US|   22977584|R3K624QDQKENN9|B010KYDNDG|     835376637|Minecraft for PC/...|Digital_Video_Games|          4|            0|          0|   N|                Y|                 FUN|COOL BUT IT LAGES...|2015-08-31 00:00:00|\n",
            "|         US|   45765011| R1FOXH7PCJX3V|B008ALUBYQ|     112160022|       Borderlands 2|Digital_Video_Games|          1|            0|          2|   N|                Y|            One Star|Lames purchase I ...|2015-08-31 00:00:00|\n",
            "|         US|    2239522| RA1246M1OMDWC|B004RMK4P8|     384246568|Playstation Netwo...|Digital_Video_Games|          5|            0|          0|   N|                Y|          Five Stars|               Great|2015-08-31 00:00:00|\n",
            "|         US|   48805811|R2I9SXWB0PAEKQ|B004RMK5QG|     395682204|Playstation Plus ...|Digital_Video_Games|          5|            0|          0|   N|                Y|          Five Stars|          Awesome!!!|2015-08-31 00:00:00|\n",
            "|         US|   18646481|R3UGL544NA0G9C|B00BI16Z22|     552981447|Brink of Consciou...|Digital_Video_Games|          4|            0|          0|   N|                Y|       worth playing|pretty good but n...|2015-08-31 00:00:00|\n",
            "|         US|   10310935|R1CBA4Y92GVAVM|B004VSTQ2A|     232803743|Xbox Live Subscri...|Digital_Video_Games|          5|            0|          0|   N|                Y|          Five Stars|What can I say......|2015-08-31 00:00:00|\n",
            "|         US|    5587610|R24NEKNR01VEHU|B00GAC1D2G|     384246568|Playstation Netwo...|Digital_Video_Games|          5|            0|          0|   N|                Y|        Just amazing|Very fast to rece...|2015-08-31 00:00:00|\n",
            "+-----------+-----------+--------------+----------+--------------+--------------------+-------------------+-----------+-------------+-----------+----+-----------------+--------------------+--------------------+-------------------+\n",
            "only showing top 20 rows\n",
            "\n"
          ]
        }
      ]
    },
    {
      "cell_type": "code",
      "source": [
        "# Count the number of records (rows) in the dataset\n",
        "print(digital_video_games_df.count())\n",
        "digital_video_games_df = digital_video_games_df.dropna()\n",
        "print(digital_video_games_df.count())\n",
        "digital_video_games_df= digital_video_games_df.dropDuplicates()\n",
        "print(digital_video_games_df.count())"
      ],
      "metadata": {
        "colab": {
          "base_uri": "https://localhost:8080/"
        },
        "id": "vj3zoztLOks3",
        "outputId": "0041097c-50aa-4bd5-d4c9-78217eca49e5"
      },
      "id": "vj3zoztLOks3",
      "execution_count": 4,
      "outputs": [
        {
          "output_type": "stream",
          "name": "stdout",
          "text": [
            "145431\n",
            "145425\n",
            "145425\n"
          ]
        }
      ]
    },
    {
      "cell_type": "code",
      "source": [
        "# create the review_id dataframe for the \n",
        "from pyspark.sql.functions import to_date\n",
        "# Review DataFrame\n",
        "review_id_df = digital_video_games_df.select([\"review_id\", \"customer_id\", \"product_id\", \"product_parent\", to_date(\"review_date\", 'yyyy-MM-dd').alias(\"review_date\")])\n",
        "review_id_df.show()"
      ],
      "metadata": {
        "colab": {
          "base_uri": "https://localhost:8080/"
        },
        "id": "JZgiqF5OOq3O",
        "outputId": "df386891-89b4-477d-f863-40ea8b537975"
      },
      "id": "JZgiqF5OOq3O",
      "execution_count": 5,
      "outputs": [
        {
          "output_type": "stream",
          "name": "stdout",
          "text": [
            "+--------------+-----------+----------+--------------+-----------+\n",
            "|     review_id|customer_id|product_id|product_parent|review_date|\n",
            "+--------------+-----------+----------+--------------+-----------+\n",
            "| RDHZ0IP0QWF3G|   39005147|B00SLM597S|     500010339| 2015-08-31|\n",
            "|R2AQD17WE4BPXV|   10726509|B009IR1SR0|     912779847| 2015-08-20|\n",
            "|R27V3DHADX5APY|    1709090|B00F4CEHNK|     341969535| 2015-08-19|\n",
            "|R2Q0PGNE0M3ES4|     167253|B00TUEOSMS|      47086315| 2015-08-18|\n",
            "|R1LB0DS6OZCIMW|   10534940|B00TUEOSMS|      47086315| 2015-08-17|\n",
            "|R3HX7QICC0NOCK|   11267480|B00GAC1D2G|     384246568| 2015-08-15|\n",
            "|R1KXTQXBE0CRQM|   22661511|B00T8NURF8|     181827382| 2015-08-15|\n",
            "|R39TG3LST9JDA8|   18404333|B002VBWIP6|     232803743| 2015-08-10|\n",
            "|R1W2UR1JVB2C13|   22353312|B010R8DUFQ|     473214709| 2015-08-09|\n",
            "|R1M0DM7FCXI1H9|     535447|B00GAC1D2G|     384246568| 2015-08-06|\n",
            "|R2IJD4JDICI4AF|   10733761|B009IR1SR0|     912779847| 2015-08-01|\n",
            "| RWVPFDHF1M46B|    2585643|B00GAC1D2G|     384246568| 2015-07-29|\n",
            "|R3VRDDUP2Y8GLL|   46457021|B00KSEP1IY|     216254917| 2015-07-27|\n",
            "| RTQ74WPYINEQ4|   46298724|B00GXHISJE|     599419294| 2015-07-24|\n",
            "|R2EDLGJ023RFG9|   15358939|B004RMK4BC|     384246568| 2015-07-20|\n",
            "|R2GHBUPC6U73WY|   46570081|B00KXAGTV6|     879556367| 2015-07-19|\n",
            "|R302SCFGGMY7CJ|    3905163|B00DTWEOZ8|     869820667| 2015-07-17|\n",
            "|R2UWO1VA2JWOVV|    2567383|B004RMK4BC|     384246568| 2015-07-15|\n",
            "| RMK5FMTGK8UWV|   26637972|B00AR05D7I|     151974959| 2015-07-06|\n",
            "|R3A14IZL4UCGIM|   39677172|B004RMK4P8|     384246568| 2015-07-06|\n",
            "+--------------+-----------+----------+--------------+-----------+\n",
            "only showing top 20 rows\n",
            "\n"
          ]
        }
      ]
    },
    {
      "cell_type": "code",
      "source": [
        "# Products DataFrame\n",
        "products_df = digital_video_games_df.select([\"product_id\", \"product_title\"])\n",
        "products_df = products_df.dropDuplicates()\n",
        "products_df.show()"
      ],
      "metadata": {
        "colab": {
          "base_uri": "https://localhost:8080/"
        },
        "id": "qz_qvJ4DOt0b",
        "outputId": "eff68eab-de3e-40f1-ff93-dc92c23ba37a"
      },
      "id": "qz_qvJ4DOt0b",
      "execution_count": 6,
      "outputs": [
        {
          "output_type": "stream",
          "name": "stdout",
          "text": [
            "+----------+--------------------+\n",
            "|product_id|       product_title|\n",
            "+----------+--------------------+\n",
            "|B001TK3VTC|Cubis Gold 2 [Dow...|\n",
            "|B002MUB0TG|Little Shop of Tr...|\n",
            "|B00DRO824C|X2 The Threat [On...|\n",
            "|B00CMDKNHI| 100% Hidden Objects|\n",
            "|B00CMSCTA2|Age of Empires II...|\n",
            "|B00GDHD3LW|1 Month Subscript...|\n",
            "|B00OM1VVJM|            NBa 2K15|\n",
            "|B005XOJ6NK|   Sonic Generations|\n",
            "|B00GGUHGGY|Call of Duty Blac...|\n",
            "|B00A9XQ890|Grand Theft Auto:...|\n",
            "|B003YMMGEE|Sniper: Ghost War...|\n",
            "|B00405RA04|Rome: Total War -...|\n",
            "|B0083KX9IO|Stronghold Kingdo...|\n",
            "|B00M0W1YZQ|Chronicles of Wit...|\n",
            "|B00895ARJC|  Syberia [Download]|\n",
            "|B0084FHQ1O|The Stronghold Co...|\n",
            "|B00KK9PR90|Freddi Fish 3: Th...|\n",
            "|B001KC01OW|Wonderlines [Down...|\n",
            "|B008TTPTOQ|Battlefield Bad C...|\n",
            "|B00DGZDGUM|Nascar The Game 2...|\n",
            "+----------+--------------------+\n",
            "only showing top 20 rows\n",
            "\n"
          ]
        }
      ]
    },
    {
      "cell_type": "code",
      "source": [
        "from pyspark.sql.functions import desc\n",
        "# Customers DataFrame\n",
        "customers_df = digital_video_games_df.groupby(\"customer_id\").agg({\"customer_id\":\"count\"})\n",
        "customers_df.show()"
      ],
      "metadata": {
        "colab": {
          "base_uri": "https://localhost:8080/"
        },
        "id": "EV30B6C0OwTu",
        "outputId": "8c02110c-1b86-466e-aa29-95b6c0c53491"
      },
      "id": "EV30B6C0OwTu",
      "execution_count": 7,
      "outputs": [
        {
          "output_type": "stream",
          "name": "stdout",
          "text": [
            "+-----------+------------------+\n",
            "|customer_id|count(customer_id)|\n",
            "+-----------+------------------+\n",
            "|   47505356|                 1|\n",
            "|   21198249|                10|\n",
            "|   11646226|                 4|\n",
            "|   50712554|                 1|\n",
            "|   13490955|                 2|\n",
            "|    2099668|                 1|\n",
            "|   29206489|                 1|\n",
            "|   14231016|                 1|\n",
            "|   46351928|                 7|\n",
            "|   28665190|                 1|\n",
            "|   44172434|                 1|\n",
            "|   45096613|                 1|\n",
            "|   13713446|                 8|\n",
            "|    2863501|                 1|\n",
            "|   39449017|                 3|\n",
            "|   21281723|                 5|\n",
            "|    3953141|                 2|\n",
            "|    8213600|                 2|\n",
            "|   33185883|                 1|\n",
            "|   15109931|                 1|\n",
            "+-----------+------------------+\n",
            "only showing top 20 rows\n",
            "\n"
          ]
        }
      ]
    },
    {
      "cell_type": "code",
      "source": [
        "customers_df = customers_df.orderBy(desc(\"count(customer_id)\"))\n",
        "customers_df = customers_df.withColumnRenamed(\"count(customer_id)\", \"customer_count\")\n",
        "customers_df.show()"
      ],
      "metadata": {
        "colab": {
          "base_uri": "https://localhost:8080/"
        },
        "id": "EEO27HZRO0cN",
        "outputId": "ab2e974c-a5e3-4392-f190-e5a275ae758d"
      },
      "id": "EEO27HZRO0cN",
      "execution_count": 8,
      "outputs": [
        {
          "output_type": "stream",
          "name": "stdout",
          "text": [
            "+-----------+--------------+\n",
            "|customer_id|customer_count|\n",
            "+-----------+--------------+\n",
            "|   21925455|            95|\n",
            "|   40955995|            92|\n",
            "|   23564949|            83|\n",
            "|   52520442|            73|\n",
            "|   14279279|            72|\n",
            "|   51520185|            65|\n",
            "|   20751317|            54|\n",
            "|   25575022|            49|\n",
            "|   50529050|            49|\n",
            "|   11584162|            49|\n",
            "|   36527466|            48|\n",
            "|   39942708|            48|\n",
            "|   31012456|            46|\n",
            "|   52919259|            45|\n",
            "|   19371429|            43|\n",
            "|   46544620|            43|\n",
            "|   53080901|            42|\n",
            "|   26151231|            42|\n",
            "|   45688707|            40|\n",
            "|   14222166|            39|\n",
            "+-----------+--------------+\n",
            "only showing top 20 rows\n",
            "\n"
          ]
        }
      ]
    },
    {
      "cell_type": "code",
      "source": [
        "# Vine DataFrame\n",
        "vine_df = digital_video_games_df.select([\"review_id\", \"star_rating\", \"helpful_votes\", \"total_votes\", \"vine\"])\n",
        "vine_df.show()"
      ],
      "metadata": {
        "colab": {
          "base_uri": "https://localhost:8080/"
        },
        "id": "NYMrF1pkO26C",
        "outputId": "c49cc22b-4713-416b-ff9f-dc80d66db4bf"
      },
      "id": "NYMrF1pkO26C",
      "execution_count": 9,
      "outputs": [
        {
          "output_type": "stream",
          "name": "stdout",
          "text": [
            "+--------------+-----------+-------------+-----------+----+\n",
            "|     review_id|star_rating|helpful_votes|total_votes|vine|\n",
            "+--------------+-----------+-------------+-----------+----+\n",
            "| RDHZ0IP0QWF3G|          1|            1|          1|   N|\n",
            "|R2AQD17WE4BPXV|          1|            1|          1|   N|\n",
            "|R27V3DHADX5APY|          1|            0|          0|   N|\n",
            "|R2Q0PGNE0M3ES4|          5|            0|          0|   N|\n",
            "|R1LB0DS6OZCIMW|          5|            0|          0|   N|\n",
            "|R3HX7QICC0NOCK|          1|            0|          0|   N|\n",
            "|R1KXTQXBE0CRQM|          5|            0|          0|   N|\n",
            "|R39TG3LST9JDA8|          5|            0|          0|   N|\n",
            "|R1W2UR1JVB2C13|          5|            1|          1|   N|\n",
            "|R1M0DM7FCXI1H9|          5|            0|          0|   N|\n",
            "|R2IJD4JDICI4AF|          1|            2|          2|   N|\n",
            "| RWVPFDHF1M46B|          5|            0|          0|   N|\n",
            "|R3VRDDUP2Y8GLL|          5|            0|          0|   N|\n",
            "| RTQ74WPYINEQ4|          1|            0|          1|   N|\n",
            "|R2EDLGJ023RFG9|          5|            0|          0|   N|\n",
            "|R2GHBUPC6U73WY|          5|            0|          0|   N|\n",
            "|R302SCFGGMY7CJ|          4|            0|          0|   N|\n",
            "|R2UWO1VA2JWOVV|          5|            0|          0|   N|\n",
            "| RMK5FMTGK8UWV|          1|            0|          1|   N|\n",
            "|R3A14IZL4UCGIM|          5|            0|          0|   N|\n",
            "+--------------+-----------+-------------+-----------+----+\n",
            "only showing top 20 rows\n",
            "\n"
          ]
        }
      ]
    },
    {
      "cell_type": "code",
      "source": [
        "mode = \"append\"\n",
        "jdbc_url=\"jdbc:postgresql://<endpoint>:5432/digital_video_games_db\"\n",
        "config = {\"user\":\"postgres\", \"password\": \"<password>\", \"driver\":\"org.postgresql.Driver\"}"
      ],
      "metadata": {
        "id": "7DhCRlLVO6Tl"
      },
      "id": "7DhCRlLVO6Tl",
      "execution_count": 10,
      "outputs": []
    },
    {
      "cell_type": "code",
      "source": [
        "# Write review_id_df to table in RDS\n",
        "review_id_df.write.jdbc(url=jdbc_url, table='review_id_table', mode=mode, properties=config)"
      ],
      "metadata": {
        "id": "mPsFzqqBO8_s"
      },
      "id": "mPsFzqqBO8_s",
      "execution_count": null,
      "outputs": []
    },
    {
      "cell_type": "code",
      "source": [
        "# Write products_df to table in RDS\n",
        "products_df.write.jdbc(url=jdbc_url, table='products', mode=mode, properties=config)"
      ],
      "metadata": {
        "id": "fpHFoAi4O9Ic"
      },
      "id": "fpHFoAi4O9Ic",
      "execution_count": null,
      "outputs": []
    },
    {
      "cell_type": "code",
      "source": [
        "# Write customers_df to table in RDS\n",
        "customers_df.write.jdbc(url=jdbc_url, table='customers', mode=mode, properties=config)"
      ],
      "metadata": {
        "id": "vWWAFxJEO9Sz"
      },
      "id": "vWWAFxJEO9Sz",
      "execution_count": null,
      "outputs": []
    },
    {
      "cell_type": "code",
      "source": [
        "# Write vine_df to table in RDS\n",
        "vine_df.write.jdbc(url=jdbc_url, table='vine_table', mode=mode, properties=config)"
      ],
      "metadata": {
        "id": "6lT_rAfdO9eZ"
      },
      "id": "6lT_rAfdO9eZ",
      "execution_count": null,
      "outputs": []
    }
  ],
  "metadata": {
    "kernelspec": {
      "display_name": "Python 3 (ipykernel)",
      "language": "python",
      "name": "python3"
    },
    "language_info": {
      "codemirror_mode": {
        "name": "ipython",
        "version": 3
      },
      "file_extension": ".py",
      "mimetype": "text/x-python",
      "name": "python",
      "nbconvert_exporter": "python",
      "pygments_lexer": "ipython3",
      "version": "3.9.7"
    },
    "colab": {
      "provenance": [],
      "collapsed_sections": [],
      "include_colab_link": true
    }
  },
  "nbformat": 4,
  "nbformat_minor": 5
}